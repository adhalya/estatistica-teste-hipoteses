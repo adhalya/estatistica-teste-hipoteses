{
  "nbformat": 4,
  "nbformat_minor": 0,
  "metadata": {
    "colab": {
      "provenance": [],
      "collapsed_sections": [
        "35OQNW0cY0P4",
        "48444FdJYtKG"
      ],
      "authorship_tag": "ABX9TyNizezHZ96zxK5iPjiGtAoF",
      "include_colab_link": true
    },
    "kernelspec": {
      "name": "python3",
      "display_name": "Python 3"
    },
    "language_info": {
      "name": "python"
    }
  },
  "cells": [
    {
      "cell_type": "markdown",
      "metadata": {
        "id": "view-in-github",
        "colab_type": "text"
      },
      "source": [
        "<a href=\"https://colab.research.google.com/github/adhalya/estatistica-teste-hipoteses/blob/main/Desafio_Individual_Teste_de_Hip%C3%B3teses.ipynb\" target=\"_parent\"><img src=\"https://colab.research.google.com/assets/colab-badge.svg\" alt=\"Open In Colab\"/></a>"
      ]
    },
    {
      "cell_type": "code",
      "source": [
        "import pandas as pd\n",
        "import numpy as np\n",
        "\n",
        "import scipy.stats as stats\n",
        "from scipy.stats import norm\n",
        "from scipy.stats import ttest_1samp\n",
        "from scipy.stats import shapiro"
      ],
      "metadata": {
        "id": "lrfqkpzmTAU4"
      },
      "execution_count": 2,
      "outputs": []
    },
    {
      "cell_type": "markdown",
      "source": [
        "#### Desafio 1"
      ],
      "metadata": {
        "id": "35OQNW0cY0P4"
      }
    },
    {
      "cell_type": "code",
      "source": [
        "df_teste_ab = pd.read_csv(\"https://raw.githubusercontent.com/adhalya/estatistica-teste-hipoteses/main/experimento_teste_ab.csv\")\n",
        "df_teste_ab.head()"
      ],
      "metadata": {
        "colab": {
          "base_uri": "https://localhost:8080/",
          "height": 206
        },
        "id": "n8y_nwTJTGKK",
        "outputId": "9af984dd-ef58-4cb2-cadc-59536fb36dba"
      },
      "execution_count": 3,
      "outputs": [
        {
          "output_type": "execute_result",
          "data": {
            "text/plain": [
              "   Visitante_ID Versão_Página  Visualizações  Conversões\n",
              "0             1             A            167           1\n",
              "1             2             A            160           0\n",
              "2             3             A            170           0\n",
              "3             4             A            161           1\n",
              "4             5             A            104           0"
            ],
            "text/html": [
              "\n",
              "  <div id=\"df-1a11b5d8-79c7-4b82-ab57-a249ca5e1351\" class=\"colab-df-container\">\n",
              "    <div>\n",
              "<style scoped>\n",
              "    .dataframe tbody tr th:only-of-type {\n",
              "        vertical-align: middle;\n",
              "    }\n",
              "\n",
              "    .dataframe tbody tr th {\n",
              "        vertical-align: top;\n",
              "    }\n",
              "\n",
              "    .dataframe thead th {\n",
              "        text-align: right;\n",
              "    }\n",
              "</style>\n",
              "<table border=\"1\" class=\"dataframe\">\n",
              "  <thead>\n",
              "    <tr style=\"text-align: right;\">\n",
              "      <th></th>\n",
              "      <th>Visitante_ID</th>\n",
              "      <th>Versão_Página</th>\n",
              "      <th>Visualizações</th>\n",
              "      <th>Conversões</th>\n",
              "    </tr>\n",
              "  </thead>\n",
              "  <tbody>\n",
              "    <tr>\n",
              "      <th>0</th>\n",
              "      <td>1</td>\n",
              "      <td>A</td>\n",
              "      <td>167</td>\n",
              "      <td>1</td>\n",
              "    </tr>\n",
              "    <tr>\n",
              "      <th>1</th>\n",
              "      <td>2</td>\n",
              "      <td>A</td>\n",
              "      <td>160</td>\n",
              "      <td>0</td>\n",
              "    </tr>\n",
              "    <tr>\n",
              "      <th>2</th>\n",
              "      <td>3</td>\n",
              "      <td>A</td>\n",
              "      <td>170</td>\n",
              "      <td>0</td>\n",
              "    </tr>\n",
              "    <tr>\n",
              "      <th>3</th>\n",
              "      <td>4</td>\n",
              "      <td>A</td>\n",
              "      <td>161</td>\n",
              "      <td>1</td>\n",
              "    </tr>\n",
              "    <tr>\n",
              "      <th>4</th>\n",
              "      <td>5</td>\n",
              "      <td>A</td>\n",
              "      <td>104</td>\n",
              "      <td>0</td>\n",
              "    </tr>\n",
              "  </tbody>\n",
              "</table>\n",
              "</div>\n",
              "    <div class=\"colab-df-buttons\">\n",
              "\n",
              "  <div class=\"colab-df-container\">\n",
              "    <button class=\"colab-df-convert\" onclick=\"convertToInteractive('df-1a11b5d8-79c7-4b82-ab57-a249ca5e1351')\"\n",
              "            title=\"Convert this dataframe to an interactive table.\"\n",
              "            style=\"display:none;\">\n",
              "\n",
              "  <svg xmlns=\"http://www.w3.org/2000/svg\" height=\"24px\" viewBox=\"0 -960 960 960\">\n",
              "    <path d=\"M120-120v-720h720v720H120Zm60-500h600v-160H180v160Zm220 220h160v-160H400v160Zm0 220h160v-160H400v160ZM180-400h160v-160H180v160Zm440 0h160v-160H620v160ZM180-180h160v-160H180v160Zm440 0h160v-160H620v160Z\"/>\n",
              "  </svg>\n",
              "    </button>\n",
              "\n",
              "  <style>\n",
              "    .colab-df-container {\n",
              "      display:flex;\n",
              "      gap: 12px;\n",
              "    }\n",
              "\n",
              "    .colab-df-convert {\n",
              "      background-color: #E8F0FE;\n",
              "      border: none;\n",
              "      border-radius: 50%;\n",
              "      cursor: pointer;\n",
              "      display: none;\n",
              "      fill: #1967D2;\n",
              "      height: 32px;\n",
              "      padding: 0 0 0 0;\n",
              "      width: 32px;\n",
              "    }\n",
              "\n",
              "    .colab-df-convert:hover {\n",
              "      background-color: #E2EBFA;\n",
              "      box-shadow: 0px 1px 2px rgba(60, 64, 67, 0.3), 0px 1px 3px 1px rgba(60, 64, 67, 0.15);\n",
              "      fill: #174EA6;\n",
              "    }\n",
              "\n",
              "    .colab-df-buttons div {\n",
              "      margin-bottom: 4px;\n",
              "    }\n",
              "\n",
              "    [theme=dark] .colab-df-convert {\n",
              "      background-color: #3B4455;\n",
              "      fill: #D2E3FC;\n",
              "    }\n",
              "\n",
              "    [theme=dark] .colab-df-convert:hover {\n",
              "      background-color: #434B5C;\n",
              "      box-shadow: 0px 1px 3px 1px rgba(0, 0, 0, 0.15);\n",
              "      filter: drop-shadow(0px 1px 2px rgba(0, 0, 0, 0.3));\n",
              "      fill: #FFFFFF;\n",
              "    }\n",
              "  </style>\n",
              "\n",
              "    <script>\n",
              "      const buttonEl =\n",
              "        document.querySelector('#df-1a11b5d8-79c7-4b82-ab57-a249ca5e1351 button.colab-df-convert');\n",
              "      buttonEl.style.display =\n",
              "        google.colab.kernel.accessAllowed ? 'block' : 'none';\n",
              "\n",
              "      async function convertToInteractive(key) {\n",
              "        const element = document.querySelector('#df-1a11b5d8-79c7-4b82-ab57-a249ca5e1351');\n",
              "        const dataTable =\n",
              "          await google.colab.kernel.invokeFunction('convertToInteractive',\n",
              "                                                    [key], {});\n",
              "        if (!dataTable) return;\n",
              "\n",
              "        const docLinkHtml = 'Like what you see? Visit the ' +\n",
              "          '<a target=\"_blank\" href=https://colab.research.google.com/notebooks/data_table.ipynb>data table notebook</a>'\n",
              "          + ' to learn more about interactive tables.';\n",
              "        element.innerHTML = '';\n",
              "        dataTable['output_type'] = 'display_data';\n",
              "        await google.colab.output.renderOutput(dataTable, element);\n",
              "        const docLink = document.createElement('div');\n",
              "        docLink.innerHTML = docLinkHtml;\n",
              "        element.appendChild(docLink);\n",
              "      }\n",
              "    </script>\n",
              "  </div>\n",
              "\n",
              "\n",
              "<div id=\"df-4786aa06-f74d-40da-ad57-522984694175\">\n",
              "  <button class=\"colab-df-quickchart\" onclick=\"quickchart('df-4786aa06-f74d-40da-ad57-522984694175')\"\n",
              "            title=\"Suggest charts\"\n",
              "            style=\"display:none;\">\n",
              "\n",
              "<svg xmlns=\"http://www.w3.org/2000/svg\" height=\"24px\"viewBox=\"0 0 24 24\"\n",
              "     width=\"24px\">\n",
              "    <g>\n",
              "        <path d=\"M19 3H5c-1.1 0-2 .9-2 2v14c0 1.1.9 2 2 2h14c1.1 0 2-.9 2-2V5c0-1.1-.9-2-2-2zM9 17H7v-7h2v7zm4 0h-2V7h2v10zm4 0h-2v-4h2v4z\"/>\n",
              "    </g>\n",
              "</svg>\n",
              "  </button>\n",
              "\n",
              "<style>\n",
              "  .colab-df-quickchart {\n",
              "      --bg-color: #E8F0FE;\n",
              "      --fill-color: #1967D2;\n",
              "      --hover-bg-color: #E2EBFA;\n",
              "      --hover-fill-color: #174EA6;\n",
              "      --disabled-fill-color: #AAA;\n",
              "      --disabled-bg-color: #DDD;\n",
              "  }\n",
              "\n",
              "  [theme=dark] .colab-df-quickchart {\n",
              "      --bg-color: #3B4455;\n",
              "      --fill-color: #D2E3FC;\n",
              "      --hover-bg-color: #434B5C;\n",
              "      --hover-fill-color: #FFFFFF;\n",
              "      --disabled-bg-color: #3B4455;\n",
              "      --disabled-fill-color: #666;\n",
              "  }\n",
              "\n",
              "  .colab-df-quickchart {\n",
              "    background-color: var(--bg-color);\n",
              "    border: none;\n",
              "    border-radius: 50%;\n",
              "    cursor: pointer;\n",
              "    display: none;\n",
              "    fill: var(--fill-color);\n",
              "    height: 32px;\n",
              "    padding: 0;\n",
              "    width: 32px;\n",
              "  }\n",
              "\n",
              "  .colab-df-quickchart:hover {\n",
              "    background-color: var(--hover-bg-color);\n",
              "    box-shadow: 0 1px 2px rgba(60, 64, 67, 0.3), 0 1px 3px 1px rgba(60, 64, 67, 0.15);\n",
              "    fill: var(--button-hover-fill-color);\n",
              "  }\n",
              "\n",
              "  .colab-df-quickchart-complete:disabled,\n",
              "  .colab-df-quickchart-complete:disabled:hover {\n",
              "    background-color: var(--disabled-bg-color);\n",
              "    fill: var(--disabled-fill-color);\n",
              "    box-shadow: none;\n",
              "  }\n",
              "\n",
              "  .colab-df-spinner {\n",
              "    border: 2px solid var(--fill-color);\n",
              "    border-color: transparent;\n",
              "    border-bottom-color: var(--fill-color);\n",
              "    animation:\n",
              "      spin 1s steps(1) infinite;\n",
              "  }\n",
              "\n",
              "  @keyframes spin {\n",
              "    0% {\n",
              "      border-color: transparent;\n",
              "      border-bottom-color: var(--fill-color);\n",
              "      border-left-color: var(--fill-color);\n",
              "    }\n",
              "    20% {\n",
              "      border-color: transparent;\n",
              "      border-left-color: var(--fill-color);\n",
              "      border-top-color: var(--fill-color);\n",
              "    }\n",
              "    30% {\n",
              "      border-color: transparent;\n",
              "      border-left-color: var(--fill-color);\n",
              "      border-top-color: var(--fill-color);\n",
              "      border-right-color: var(--fill-color);\n",
              "    }\n",
              "    40% {\n",
              "      border-color: transparent;\n",
              "      border-right-color: var(--fill-color);\n",
              "      border-top-color: var(--fill-color);\n",
              "    }\n",
              "    60% {\n",
              "      border-color: transparent;\n",
              "      border-right-color: var(--fill-color);\n",
              "    }\n",
              "    80% {\n",
              "      border-color: transparent;\n",
              "      border-right-color: var(--fill-color);\n",
              "      border-bottom-color: var(--fill-color);\n",
              "    }\n",
              "    90% {\n",
              "      border-color: transparent;\n",
              "      border-bottom-color: var(--fill-color);\n",
              "    }\n",
              "  }\n",
              "</style>\n",
              "\n",
              "  <script>\n",
              "    async function quickchart(key) {\n",
              "      const quickchartButtonEl =\n",
              "        document.querySelector('#' + key + ' button');\n",
              "      quickchartButtonEl.disabled = true;  // To prevent multiple clicks.\n",
              "      quickchartButtonEl.classList.add('colab-df-spinner');\n",
              "      try {\n",
              "        const charts = await google.colab.kernel.invokeFunction(\n",
              "            'suggestCharts', [key], {});\n",
              "      } catch (error) {\n",
              "        console.error('Error during call to suggestCharts:', error);\n",
              "      }\n",
              "      quickchartButtonEl.classList.remove('colab-df-spinner');\n",
              "      quickchartButtonEl.classList.add('colab-df-quickchart-complete');\n",
              "    }\n",
              "    (() => {\n",
              "      let quickchartButtonEl =\n",
              "        document.querySelector('#df-4786aa06-f74d-40da-ad57-522984694175 button');\n",
              "      quickchartButtonEl.style.display =\n",
              "        google.colab.kernel.accessAllowed ? 'block' : 'none';\n",
              "    })();\n",
              "  </script>\n",
              "</div>\n",
              "\n",
              "    </div>\n",
              "  </div>\n"
            ],
            "application/vnd.google.colaboratory.intrinsic+json": {
              "type": "dataframe",
              "variable_name": "df_teste_ab",
              "summary": "{\n  \"name\": \"df_teste_ab\",\n  \"rows\": 2000,\n  \"fields\": [\n    {\n      \"column\": \"Visitante_ID\",\n      \"properties\": {\n        \"dtype\": \"number\",\n        \"std\": 577,\n        \"min\": 1,\n        \"max\": 2000,\n        \"num_unique_values\": 2000,\n        \"samples\": [\n          1861,\n          354,\n          1334\n        ],\n        \"semantic_type\": \"\",\n        \"description\": \"\"\n      }\n    },\n    {\n      \"column\": \"Vers\\u00e3o_P\\u00e1gina\",\n      \"properties\": {\n        \"dtype\": \"category\",\n        \"num_unique_values\": 2,\n        \"samples\": [\n          \"B\",\n          \"A\"\n        ],\n        \"semantic_type\": \"\",\n        \"description\": \"\"\n      }\n    },\n    {\n      \"column\": \"Visualiza\\u00e7\\u00f5es\",\n      \"properties\": {\n        \"dtype\": \"number\",\n        \"std\": 28,\n        \"min\": 100,\n        \"max\": 199,\n        \"num_unique_values\": 100,\n        \"samples\": [\n          192,\n          107\n        ],\n        \"semantic_type\": \"\",\n        \"description\": \"\"\n      }\n    },\n    {\n      \"column\": \"Convers\\u00f5es\",\n      \"properties\": {\n        \"dtype\": \"number\",\n        \"std\": 0,\n        \"min\": 0,\n        \"max\": 1,\n        \"num_unique_values\": 2,\n        \"samples\": [\n          0,\n          1\n        ],\n        \"semantic_type\": \"\",\n        \"description\": \"\"\n      }\n    }\n  ]\n}"
            }
          },
          "metadata": {},
          "execution_count": 3
        }
      ]
    },
    {
      "cell_type": "code",
      "source": [
        "df_teste_ab[\"Versão_Página\"].value_counts()"
      ],
      "metadata": {
        "colab": {
          "base_uri": "https://localhost:8080/"
        },
        "id": "ufc_Ic8CTCqG",
        "outputId": "8bd741b3-1081-4a57-fb6b-ba48c246260d"
      },
      "execution_count": 4,
      "outputs": [
        {
          "output_type": "execute_result",
          "data": {
            "text/plain": [
              "Versão_Página\n",
              "A    1000\n",
              "B    1000\n",
              "Name: count, dtype: int64"
            ]
          },
          "metadata": {},
          "execution_count": 4
        }
      ]
    },
    {
      "cell_type": "code",
      "source": [
        "df_teste_ab[\"Conversões\"].value_counts()"
      ],
      "metadata": {
        "colab": {
          "base_uri": "https://localhost:8080/"
        },
        "id": "kjbh3YqwpmLn",
        "outputId": "3a817ca1-35f7-459a-d4af-651da7cfc22f"
      },
      "execution_count": 5,
      "outputs": [
        {
          "output_type": "execute_result",
          "data": {
            "text/plain": [
              "Conversões\n",
              "0    1770\n",
              "1     230\n",
              "Name: count, dtype: int64"
            ]
          },
          "metadata": {},
          "execution_count": 5
        }
      ]
    },
    {
      "cell_type": "markdown",
      "source": [
        "**Considerando a base de dados experimento_test_ab.csv responda as questões abaixo:**\n",
        "\n",
        "##### 1.\tQual dos cenários tem a maior taxa de conversão?\n",
        "\n"
      ],
      "metadata": {
        "id": "31ySoqaMBkxu"
      }
    },
    {
      "cell_type": "code",
      "source": [
        "# Filtrando Cenário A\n",
        "filtro_a = df_teste_ab[(df_teste_ab[\"Versão_Página\"] == \"A\")]\n",
        "taxa_conv_a = filtro_a[\"Conversões\"].sum() / filtro_a[\"Visualizações\"].sum()\n",
        "taxa_a_porc = taxa_conv_a * 100\n",
        "\n",
        "# Filtrando Cenário B\n",
        "filtro_b = df_teste_ab[(df_teste_ab[\"Versão_Página\"] == \"B\")]\n",
        "taxa_conv_b = filtro_b[\"Conversões\"].sum() / filtro_b[\"Visualizações\"].sum()\n",
        "taxa_b_porc = taxa_conv_b * 100\n",
        "\n",
        "#Imprimindo resultados\n",
        "print(f\"A taxa de conversão do Cenário A é de {taxa_a_porc:.2f}%, enquanto que a taxa de conversão do Cenário B é de {taxa_b_porc:.2f}%.\")\n",
        "\n",
        "if taxa_a_porc > taxa_b_porc:\n",
        "    print(f\"A maior taxa de conversão é do Cenário A com {taxa_a_porc:.2f}%\")\n",
        "else:\n",
        "    print(f\"A maior taxa de conversão é do Cenário B com {taxa_b_porc:.2f}%\")\n"
      ],
      "metadata": {
        "colab": {
          "base_uri": "https://localhost:8080/"
        },
        "id": "ZmsNjvH9S2st",
        "outputId": "dfbddda0-194a-4f47-babb-6255c91cb5bf"
      },
      "execution_count": 6,
      "outputs": [
        {
          "output_type": "stream",
          "name": "stdout",
          "text": [
            "A taxa de conversão do Cenário A é de 0.07%, enquanto que a taxa de conversão do Cenário B é de 0.08%.\n",
            "A maior taxa de conversão é do Cenário B com 0.08%\n"
          ]
        }
      ]
    },
    {
      "cell_type": "markdown",
      "source": [
        "##### 2.\tCalcule qual o tamanho da amostra necessária para o desenvolvimento de um teste A/B, seguindo os seguintes critérios:\n",
        "\n",
        "  a.\tO cenário A, da base, como o inicial, que funciona hoje.\n",
        "\n",
        "  b.\tConsidere 95% de confiança de que o efeito na conversão não foi aleatório com um nível de significância de 5% (alpha = 0,05).\n",
        "\n",
        "  c.\tTambém considere 80% de certeza conseguir capturar o efeito da nova abordagem.\n",
        "\n",
        "  d.\tO aumento para 10% de conversão."
      ],
      "metadata": {
        "id": "n123AN_yD_bZ"
      }
    },
    {
      "cell_type": "code",
      "source": [
        "taxa_conv_ideal = 0.10\n",
        "\n",
        "delta = taxa_conv_ideal - taxa_conv_a\n",
        "\n",
        "z_beta = 1 - 0.8\n",
        "z_alpha = 0.05\n",
        "\n",
        "amostra_a = df_teste_ab[df_teste_ab[\"Versão_Página\"] == \"A\"][\"Visualizações\"]\n",
        "var_amostral_a = np.var(amostra_a)\n",
        "\n",
        "n = (2*(var_amostral_a) * (z_alpha + z_beta) **2) / delta **2\n",
        "\n",
        "print(f\"O tamanho da amostra necesserária para realizar um teste A/B com base nas visualizações é {n:.0f}.\")"
      ],
      "metadata": {
        "colab": {
          "base_uri": "https://localhost:8080/"
        },
        "id": "rU7NG_nvqbWo",
        "outputId": "7401d218-69a7-4689-a9f1-f6e453fe5f87"
      },
      "execution_count": 7,
      "outputs": [
        {
          "output_type": "stream",
          "name": "stdout",
          "text": [
            "O tamanho da amostra necesserária para realizar um teste A/B com base nas visualizações é 10614.\n"
          ]
        }
      ]
    },
    {
      "cell_type": "markdown",
      "source": [
        "#### Desafio 2"
      ],
      "metadata": {
        "id": "48444FdJYtKG"
      }
    },
    {
      "cell_type": "code",
      "source": [
        "df_pacientes = pd.read_csv(\"https://raw.githubusercontent.com/adhalya/estatistica-teste-hipoteses/main/pacientes.csv\")\n",
        "df_pacientes.head()"
      ],
      "metadata": {
        "colab": {
          "base_uri": "https://localhost:8080/",
          "height": 206
        },
        "id": "sz6VwV58TgGx",
        "outputId": "2854dd82-9c74-4239-84fa-3210fb3afe0b"
      },
      "execution_count": 8,
      "outputs": [
        {
          "output_type": "execute_result",
          "data": {
            "text/plain": [
              "   Unnamed: 0  Pressao_Arterial  Idade  Genero  Etnia  Estado_Saude  \\\n",
              "0           0        142.755809     31       1      1             1   \n",
              "1           1        161.878468     35       1      1             0   \n",
              "2           2        161.508259     39       0      3             1   \n",
              "3           3        144.979408     43       1      3             1   \n",
              "4           4        162.502954     55       0      2             1   \n",
              "\n",
              "  Nome_Genero      Nome_Etnia                  Nome_Estado_Saude  \n",
              "0    Feminino  Afro-americano  Com condições de saúde adicionais  \n",
              "1    Feminino  Afro-americano                           Saudável  \n",
              "2   Masculino        Asiático  Com condições de saúde adicionais  \n",
              "3    Feminino        Asiático  Com condições de saúde adicionais  \n",
              "4   Masculino       Hispânico  Com condições de saúde adicionais  "
            ],
            "text/html": [
              "\n",
              "  <div id=\"df-3c235477-3ef4-4a6e-a498-93dfca5395bc\" class=\"colab-df-container\">\n",
              "    <div>\n",
              "<style scoped>\n",
              "    .dataframe tbody tr th:only-of-type {\n",
              "        vertical-align: middle;\n",
              "    }\n",
              "\n",
              "    .dataframe tbody tr th {\n",
              "        vertical-align: top;\n",
              "    }\n",
              "\n",
              "    .dataframe thead th {\n",
              "        text-align: right;\n",
              "    }\n",
              "</style>\n",
              "<table border=\"1\" class=\"dataframe\">\n",
              "  <thead>\n",
              "    <tr style=\"text-align: right;\">\n",
              "      <th></th>\n",
              "      <th>Unnamed: 0</th>\n",
              "      <th>Pressao_Arterial</th>\n",
              "      <th>Idade</th>\n",
              "      <th>Genero</th>\n",
              "      <th>Etnia</th>\n",
              "      <th>Estado_Saude</th>\n",
              "      <th>Nome_Genero</th>\n",
              "      <th>Nome_Etnia</th>\n",
              "      <th>Nome_Estado_Saude</th>\n",
              "    </tr>\n",
              "  </thead>\n",
              "  <tbody>\n",
              "    <tr>\n",
              "      <th>0</th>\n",
              "      <td>0</td>\n",
              "      <td>142.755809</td>\n",
              "      <td>31</td>\n",
              "      <td>1</td>\n",
              "      <td>1</td>\n",
              "      <td>1</td>\n",
              "      <td>Feminino</td>\n",
              "      <td>Afro-americano</td>\n",
              "      <td>Com condições de saúde adicionais</td>\n",
              "    </tr>\n",
              "    <tr>\n",
              "      <th>1</th>\n",
              "      <td>1</td>\n",
              "      <td>161.878468</td>\n",
              "      <td>35</td>\n",
              "      <td>1</td>\n",
              "      <td>1</td>\n",
              "      <td>0</td>\n",
              "      <td>Feminino</td>\n",
              "      <td>Afro-americano</td>\n",
              "      <td>Saudável</td>\n",
              "    </tr>\n",
              "    <tr>\n",
              "      <th>2</th>\n",
              "      <td>2</td>\n",
              "      <td>161.508259</td>\n",
              "      <td>39</td>\n",
              "      <td>0</td>\n",
              "      <td>3</td>\n",
              "      <td>1</td>\n",
              "      <td>Masculino</td>\n",
              "      <td>Asiático</td>\n",
              "      <td>Com condições de saúde adicionais</td>\n",
              "    </tr>\n",
              "    <tr>\n",
              "      <th>3</th>\n",
              "      <td>3</td>\n",
              "      <td>144.979408</td>\n",
              "      <td>43</td>\n",
              "      <td>1</td>\n",
              "      <td>3</td>\n",
              "      <td>1</td>\n",
              "      <td>Feminino</td>\n",
              "      <td>Asiático</td>\n",
              "      <td>Com condições de saúde adicionais</td>\n",
              "    </tr>\n",
              "    <tr>\n",
              "      <th>4</th>\n",
              "      <td>4</td>\n",
              "      <td>162.502954</td>\n",
              "      <td>55</td>\n",
              "      <td>0</td>\n",
              "      <td>2</td>\n",
              "      <td>1</td>\n",
              "      <td>Masculino</td>\n",
              "      <td>Hispânico</td>\n",
              "      <td>Com condições de saúde adicionais</td>\n",
              "    </tr>\n",
              "  </tbody>\n",
              "</table>\n",
              "</div>\n",
              "    <div class=\"colab-df-buttons\">\n",
              "\n",
              "  <div class=\"colab-df-container\">\n",
              "    <button class=\"colab-df-convert\" onclick=\"convertToInteractive('df-3c235477-3ef4-4a6e-a498-93dfca5395bc')\"\n",
              "            title=\"Convert this dataframe to an interactive table.\"\n",
              "            style=\"display:none;\">\n",
              "\n",
              "  <svg xmlns=\"http://www.w3.org/2000/svg\" height=\"24px\" viewBox=\"0 -960 960 960\">\n",
              "    <path d=\"M120-120v-720h720v720H120Zm60-500h600v-160H180v160Zm220 220h160v-160H400v160Zm0 220h160v-160H400v160ZM180-400h160v-160H180v160Zm440 0h160v-160H620v160ZM180-180h160v-160H180v160Zm440 0h160v-160H620v160Z\"/>\n",
              "  </svg>\n",
              "    </button>\n",
              "\n",
              "  <style>\n",
              "    .colab-df-container {\n",
              "      display:flex;\n",
              "      gap: 12px;\n",
              "    }\n",
              "\n",
              "    .colab-df-convert {\n",
              "      background-color: #E8F0FE;\n",
              "      border: none;\n",
              "      border-radius: 50%;\n",
              "      cursor: pointer;\n",
              "      display: none;\n",
              "      fill: #1967D2;\n",
              "      height: 32px;\n",
              "      padding: 0 0 0 0;\n",
              "      width: 32px;\n",
              "    }\n",
              "\n",
              "    .colab-df-convert:hover {\n",
              "      background-color: #E2EBFA;\n",
              "      box-shadow: 0px 1px 2px rgba(60, 64, 67, 0.3), 0px 1px 3px 1px rgba(60, 64, 67, 0.15);\n",
              "      fill: #174EA6;\n",
              "    }\n",
              "\n",
              "    .colab-df-buttons div {\n",
              "      margin-bottom: 4px;\n",
              "    }\n",
              "\n",
              "    [theme=dark] .colab-df-convert {\n",
              "      background-color: #3B4455;\n",
              "      fill: #D2E3FC;\n",
              "    }\n",
              "\n",
              "    [theme=dark] .colab-df-convert:hover {\n",
              "      background-color: #434B5C;\n",
              "      box-shadow: 0px 1px 3px 1px rgba(0, 0, 0, 0.15);\n",
              "      filter: drop-shadow(0px 1px 2px rgba(0, 0, 0, 0.3));\n",
              "      fill: #FFFFFF;\n",
              "    }\n",
              "  </style>\n",
              "\n",
              "    <script>\n",
              "      const buttonEl =\n",
              "        document.querySelector('#df-3c235477-3ef4-4a6e-a498-93dfca5395bc button.colab-df-convert');\n",
              "      buttonEl.style.display =\n",
              "        google.colab.kernel.accessAllowed ? 'block' : 'none';\n",
              "\n",
              "      async function convertToInteractive(key) {\n",
              "        const element = document.querySelector('#df-3c235477-3ef4-4a6e-a498-93dfca5395bc');\n",
              "        const dataTable =\n",
              "          await google.colab.kernel.invokeFunction('convertToInteractive',\n",
              "                                                    [key], {});\n",
              "        if (!dataTable) return;\n",
              "\n",
              "        const docLinkHtml = 'Like what you see? Visit the ' +\n",
              "          '<a target=\"_blank\" href=https://colab.research.google.com/notebooks/data_table.ipynb>data table notebook</a>'\n",
              "          + ' to learn more about interactive tables.';\n",
              "        element.innerHTML = '';\n",
              "        dataTable['output_type'] = 'display_data';\n",
              "        await google.colab.output.renderOutput(dataTable, element);\n",
              "        const docLink = document.createElement('div');\n",
              "        docLink.innerHTML = docLinkHtml;\n",
              "        element.appendChild(docLink);\n",
              "      }\n",
              "    </script>\n",
              "  </div>\n",
              "\n",
              "\n",
              "<div id=\"df-3b1d9341-382d-45e8-bae7-5f56285b934b\">\n",
              "  <button class=\"colab-df-quickchart\" onclick=\"quickchart('df-3b1d9341-382d-45e8-bae7-5f56285b934b')\"\n",
              "            title=\"Suggest charts\"\n",
              "            style=\"display:none;\">\n",
              "\n",
              "<svg xmlns=\"http://www.w3.org/2000/svg\" height=\"24px\"viewBox=\"0 0 24 24\"\n",
              "     width=\"24px\">\n",
              "    <g>\n",
              "        <path d=\"M19 3H5c-1.1 0-2 .9-2 2v14c0 1.1.9 2 2 2h14c1.1 0 2-.9 2-2V5c0-1.1-.9-2-2-2zM9 17H7v-7h2v7zm4 0h-2V7h2v10zm4 0h-2v-4h2v4z\"/>\n",
              "    </g>\n",
              "</svg>\n",
              "  </button>\n",
              "\n",
              "<style>\n",
              "  .colab-df-quickchart {\n",
              "      --bg-color: #E8F0FE;\n",
              "      --fill-color: #1967D2;\n",
              "      --hover-bg-color: #E2EBFA;\n",
              "      --hover-fill-color: #174EA6;\n",
              "      --disabled-fill-color: #AAA;\n",
              "      --disabled-bg-color: #DDD;\n",
              "  }\n",
              "\n",
              "  [theme=dark] .colab-df-quickchart {\n",
              "      --bg-color: #3B4455;\n",
              "      --fill-color: #D2E3FC;\n",
              "      --hover-bg-color: #434B5C;\n",
              "      --hover-fill-color: #FFFFFF;\n",
              "      --disabled-bg-color: #3B4455;\n",
              "      --disabled-fill-color: #666;\n",
              "  }\n",
              "\n",
              "  .colab-df-quickchart {\n",
              "    background-color: var(--bg-color);\n",
              "    border: none;\n",
              "    border-radius: 50%;\n",
              "    cursor: pointer;\n",
              "    display: none;\n",
              "    fill: var(--fill-color);\n",
              "    height: 32px;\n",
              "    padding: 0;\n",
              "    width: 32px;\n",
              "  }\n",
              "\n",
              "  .colab-df-quickchart:hover {\n",
              "    background-color: var(--hover-bg-color);\n",
              "    box-shadow: 0 1px 2px rgba(60, 64, 67, 0.3), 0 1px 3px 1px rgba(60, 64, 67, 0.15);\n",
              "    fill: var(--button-hover-fill-color);\n",
              "  }\n",
              "\n",
              "  .colab-df-quickchart-complete:disabled,\n",
              "  .colab-df-quickchart-complete:disabled:hover {\n",
              "    background-color: var(--disabled-bg-color);\n",
              "    fill: var(--disabled-fill-color);\n",
              "    box-shadow: none;\n",
              "  }\n",
              "\n",
              "  .colab-df-spinner {\n",
              "    border: 2px solid var(--fill-color);\n",
              "    border-color: transparent;\n",
              "    border-bottom-color: var(--fill-color);\n",
              "    animation:\n",
              "      spin 1s steps(1) infinite;\n",
              "  }\n",
              "\n",
              "  @keyframes spin {\n",
              "    0% {\n",
              "      border-color: transparent;\n",
              "      border-bottom-color: var(--fill-color);\n",
              "      border-left-color: var(--fill-color);\n",
              "    }\n",
              "    20% {\n",
              "      border-color: transparent;\n",
              "      border-left-color: var(--fill-color);\n",
              "      border-top-color: var(--fill-color);\n",
              "    }\n",
              "    30% {\n",
              "      border-color: transparent;\n",
              "      border-left-color: var(--fill-color);\n",
              "      border-top-color: var(--fill-color);\n",
              "      border-right-color: var(--fill-color);\n",
              "    }\n",
              "    40% {\n",
              "      border-color: transparent;\n",
              "      border-right-color: var(--fill-color);\n",
              "      border-top-color: var(--fill-color);\n",
              "    }\n",
              "    60% {\n",
              "      border-color: transparent;\n",
              "      border-right-color: var(--fill-color);\n",
              "    }\n",
              "    80% {\n",
              "      border-color: transparent;\n",
              "      border-right-color: var(--fill-color);\n",
              "      border-bottom-color: var(--fill-color);\n",
              "    }\n",
              "    90% {\n",
              "      border-color: transparent;\n",
              "      border-bottom-color: var(--fill-color);\n",
              "    }\n",
              "  }\n",
              "</style>\n",
              "\n",
              "  <script>\n",
              "    async function quickchart(key) {\n",
              "      const quickchartButtonEl =\n",
              "        document.querySelector('#' + key + ' button');\n",
              "      quickchartButtonEl.disabled = true;  // To prevent multiple clicks.\n",
              "      quickchartButtonEl.classList.add('colab-df-spinner');\n",
              "      try {\n",
              "        const charts = await google.colab.kernel.invokeFunction(\n",
              "            'suggestCharts', [key], {});\n",
              "      } catch (error) {\n",
              "        console.error('Error during call to suggestCharts:', error);\n",
              "      }\n",
              "      quickchartButtonEl.classList.remove('colab-df-spinner');\n",
              "      quickchartButtonEl.classList.add('colab-df-quickchart-complete');\n",
              "    }\n",
              "    (() => {\n",
              "      let quickchartButtonEl =\n",
              "        document.querySelector('#df-3b1d9341-382d-45e8-bae7-5f56285b934b button');\n",
              "      quickchartButtonEl.style.display =\n",
              "        google.colab.kernel.accessAllowed ? 'block' : 'none';\n",
              "    })();\n",
              "  </script>\n",
              "</div>\n",
              "\n",
              "    </div>\n",
              "  </div>\n"
            ],
            "application/vnd.google.colaboratory.intrinsic+json": {
              "type": "dataframe",
              "variable_name": "df_pacientes",
              "summary": "{\n  \"name\": \"df_pacientes\",\n  \"rows\": 1000,\n  \"fields\": [\n    {\n      \"column\": \"Unnamed: 0\",\n      \"properties\": {\n        \"dtype\": \"number\",\n        \"std\": 288,\n        \"min\": 0,\n        \"max\": 999,\n        \"num_unique_values\": 1000,\n        \"samples\": [\n          521,\n          737,\n          740\n        ],\n        \"semantic_type\": \"\",\n        \"description\": \"\"\n      }\n    },\n    {\n      \"column\": \"Pressao_Arterial\",\n      \"properties\": {\n        \"dtype\": \"number\",\n        \"std\": 9.943612581359622,\n        \"min\": 112.92982068924913,\n        \"max\": 181.80313088710068,\n        \"num_unique_values\": 1000,\n        \"samples\": [\n          152.04119412297098,\n          147.54391492523183,\n          168.8184130751253\n        ],\n        \"semantic_type\": \"\",\n        \"description\": \"\"\n      }\n    },\n    {\n      \"column\": \"Idade\",\n      \"properties\": {\n        \"dtype\": \"number\",\n        \"std\": 11,\n        \"min\": 30,\n        \"max\": 70,\n        \"num_unique_values\": 41,\n        \"samples\": [\n          30,\n          65,\n          57\n        ],\n        \"semantic_type\": \"\",\n        \"description\": \"\"\n      }\n    },\n    {\n      \"column\": \"Genero\",\n      \"properties\": {\n        \"dtype\": \"number\",\n        \"std\": 0,\n        \"min\": 0,\n        \"max\": 1,\n        \"num_unique_values\": 2,\n        \"samples\": [\n          0,\n          1\n        ],\n        \"semantic_type\": \"\",\n        \"description\": \"\"\n      }\n    },\n    {\n      \"column\": \"Etnia\",\n      \"properties\": {\n        \"dtype\": \"number\",\n        \"std\": 1,\n        \"min\": 0,\n        \"max\": 3,\n        \"num_unique_values\": 4,\n        \"samples\": [\n          3,\n          0\n        ],\n        \"semantic_type\": \"\",\n        \"description\": \"\"\n      }\n    },\n    {\n      \"column\": \"Estado_Saude\",\n      \"properties\": {\n        \"dtype\": \"number\",\n        \"std\": 0,\n        \"min\": 0,\n        \"max\": 1,\n        \"num_unique_values\": 2,\n        \"samples\": [\n          0,\n          1\n        ],\n        \"semantic_type\": \"\",\n        \"description\": \"\"\n      }\n    },\n    {\n      \"column\": \"Nome_Genero\",\n      \"properties\": {\n        \"dtype\": \"category\",\n        \"num_unique_values\": 2,\n        \"samples\": [\n          \"Masculino\",\n          \"Feminino\"\n        ],\n        \"semantic_type\": \"\",\n        \"description\": \"\"\n      }\n    },\n    {\n      \"column\": \"Nome_Etnia\",\n      \"properties\": {\n        \"dtype\": \"category\",\n        \"num_unique_values\": 4,\n        \"samples\": [\n          \"Asi\\u00e1tico\",\n          \"Caucasiano\"\n        ],\n        \"semantic_type\": \"\",\n        \"description\": \"\"\n      }\n    },\n    {\n      \"column\": \"Nome_Estado_Saude\",\n      \"properties\": {\n        \"dtype\": \"category\",\n        \"num_unique_values\": 2,\n        \"samples\": [\n          \"Saud\\u00e1vel\",\n          \"Com condi\\u00e7\\u00f5es de sa\\u00fade adicionais\"\n        ],\n        \"semantic_type\": \"\",\n        \"description\": \"\"\n      }\n    }\n  ]\n}"
            }
          },
          "metadata": {},
          "execution_count": 8
        }
      ]
    },
    {
      "cell_type": "code",
      "source": [
        "indice = {\"Unnamed: 0\": \"Index\"}\n",
        "df_pacientes.rename(columns={\"Unnamed: 0\": \"Index\"}, inplace=True)"
      ],
      "metadata": {
        "id": "DW_rBOXUZfUt"
      },
      "execution_count": 9,
      "outputs": []
    },
    {
      "cell_type": "code",
      "source": [
        "df_pacientes.shape"
      ],
      "metadata": {
        "colab": {
          "base_uri": "https://localhost:8080/"
        },
        "id": "pgL0nPDT2V46",
        "outputId": "1c2db6f5-1ea1-44d7-969d-686bb16af0d0"
      },
      "execution_count": 10,
      "outputs": [
        {
          "output_type": "execute_result",
          "data": {
            "text/plain": [
              "(1000, 9)"
            ]
          },
          "metadata": {},
          "execution_count": 10
        }
      ]
    },
    {
      "cell_type": "markdown",
      "source": [
        "**Verifique a base pacientes.csv, os dados são fictícios. A sintetiza uma base de dados de um hospital que trata de pacientes com problemas cardíacos. Considere a base como a população, portanto as estatísticas da população são conhecidas. Responda as perguntas abaixo:**\n",
        "\n",
        "##### 3.\tConsiderando uma amostra de 45 números que representam o index do dataframe, índices= ([909, 751, 402, 400, 726, 39, 184, 269, 255, 769, 209, 715, 677, 381, 793, 697,  89, 280, 232, 756, 358,  36, 439, 768, 967, 699, 473, 222,  89, 639, 883, 558, 757,  84, 907, 895, 217, 224, 311, 348, 146, 505, 273, 957, 362]). Considerando essa amostra é possível dizer que a idade média das pessoas com problemas cardíacos é maior que 50 anos? Nível de significância igual a 5%.\n"
      ],
      "metadata": {
        "id": "KkZ50JxOF4aj"
      }
    },
    {
      "cell_type": "code",
      "source": [
        "# Separando a amostra de acordo com os índices da questão\n",
        "df_amostra_1 = df_pacientes[df_pacientes[\"Index\"].isin([909, 751, 402, 400, 726, 39, 184, 269, 255, 769, 209, 715, 677, 381, 793, 697, 89, 280, 232, 756, 358, 36, 439, 768, 967, 699, 473, 222, 89, 639, 883, 558, 757, 84, 907, 895, 217, 224, 311, 348, 146, 505, 273, 957, 362])]\n",
        "\n",
        "# Filtrando as idades da amostra\n",
        "idades_amostra_1 = df_amostra_1[\"Idade\"]\n",
        "\n",
        "# Média esperada para calcular a hipótese\n",
        "media_esperada_idades = 50\n",
        "\n",
        "# Calculando o P-Valor com a função ttest_1samp do scipy.stats\n",
        "stat, p_valor = ttest_1samp(idades_amostra_1, media_esperada_idades)\n",
        "\n",
        "print(p_valor)\n",
        "# Nível de confiança para comparar o resultado do P-Valor\n",
        "alpha = 0.05\n",
        "\n",
        "if p_valor < alpha:\n",
        "    print(\"Rejeitar a hipótese de que a média das pessoas com problemas cardíacos é maior ou igual a 50 anos.\")\n",
        "else:\n",
        "    print(\"Não rejeitar a hipótese de que a média das pessoas com problemas cardíacos é maior ou igual a 50 anos.\")\n"
      ],
      "metadata": {
        "colab": {
          "base_uri": "https://localhost:8080/"
        },
        "id": "d6BGh7BUZKmU",
        "outputId": "71113f7c-8e9e-47bd-91e6-44e8d2f971ba"
      },
      "execution_count": 30,
      "outputs": [
        {
          "output_type": "stream",
          "name": "stdout",
          "text": [
            "0.8649187935739622\n",
            "Não rejeitar a hipótese de que a média das pessoas com problemas cardíacos é maior ou igual a 50 anos.\n"
          ]
        }
      ]
    },
    {
      "cell_type": "markdown",
      "source": [
        "##### 4.\tQueremos entender que tipo de amostra estamos lidando se dividirmos os conjuntos em 2, sendo um com pessoas que têm condições de saúde adicionais e o outro com pessoas saudáveis. Seria dependente ou independente?"
      ],
      "metadata": {
        "id": "qSeBkjUMHXPC"
      }
    },
    {
      "cell_type": "code",
      "source": [
        "# Separando os pacientes por condição de saúde\n",
        "cond_saude_1 = df_pacientes[df_pacientes[\"Estado_Saude\"] == 0]\n",
        "cond_saude_2 = df_pacientes[df_pacientes[\"Estado_Saude\"] == 1]\n",
        "\n",
        "# Imprimindo o tamanho da amostra para cada condição de saúde pra entender se são dependentes ou independentes\n",
        "print(cond_saude_1[\"Index\"].shape, cond_saude_2[\"Index\"].shape)\n"
      ],
      "metadata": {
        "id": "oZeHZfsDh1uC",
        "colab": {
          "base_uri": "https://localhost:8080/"
        },
        "outputId": "6d19d660-aea7-4079-9050-aabc47d81a64"
      },
      "execution_count": 12,
      "outputs": [
        {
          "output_type": "stream",
          "name": "stdout",
          "text": [
            "(490,) (510,)\n"
          ]
        }
      ]
    },
    {
      "cell_type": "markdown",
      "source": [
        "*A amostra é indepente pois cada pessoa pertence a um grupo em específico.*"
      ],
      "metadata": {
        "id": "eTkBNU7X2sgY"
      }
    },
    {
      "cell_type": "markdown",
      "source": [
        "##### 5.\tAgora considere o um conjunto de pessoas aleatória que representam o index do dataframe,  índices = ([690, 894,  67, 201, 364,  19,  60, 319, 588, 643, 855, 623, 530, 174, 105, 693,   6, 462, 973, 607, 811, 346, 354, 966, 943, 372]), podemos dizer que a pressão arterial média para pacientes com condições de saúde adicionais é igual à pressão arterial média para pacientes sem condições adicionais de saúde? Considere o nível de significância a 6%."
      ],
      "metadata": {
        "id": "lbIv8YIPH0ih"
      }
    },
    {
      "cell_type": "code",
      "source": [
        "df_amostra_2 = df_pacientes[df_pacientes[\"Index\"].isin([690, 894,  67, 201, 364,  19,  60, 319, 588, 643, 855, 623, 530, 174, 105, 693,   6, 462, 973, 607, 811, 346, 354, 966, 943, 372])]\n",
        "\n",
        "df_arterial_adicional = df_amostra_2[df_amostra_2[\"Nome_Estado_Saude\"] == \"Com condições de saúde adicionais\"][\"Pressao_Arterial\"]\n",
        "df_arterial_sem_adicional = df_amostra_2[df_amostra_2[\"Nome_Estado_Saude\"] == \"Saudável\"][\"Pressao_Arterial\"]\n",
        "\n",
        "alpha_2 = 0.06\n",
        "\n",
        "stat2, p_valor2 = stats.ttest_ind(df_arterial_adicional, df_arterial_sem_adicional)\n",
        "\n",
        "print(p_valor2)\n",
        "\n",
        "if p_valor2 < alpha_2:\n",
        "    print(\"Rejeitar a hipótese de que a pressão arterial média para pacientes com condições de saúde adicionais não é igual à pressão arterial média para pacientes sem condições adicionais de saúde.\")\n",
        "else:\n",
        "    print(\"Não rejeitar a hipótese de que a pressão arterial média para pacientes com condições de saúde adicionais não é igual à pressão arterial média para pacientes sem condições adicionais de saúde.\")\n"
      ],
      "metadata": {
        "colab": {
          "base_uri": "https://localhost:8080/"
        },
        "id": "Tjos-Xnen67i",
        "outputId": "25a29da9-0709-4532-f591-277831a200ea"
      },
      "execution_count": 33,
      "outputs": [
        {
          "output_type": "stream",
          "name": "stdout",
          "text": [
            "0.9359246016248557\n",
            "Não rejeitar a hipótese de que a pressão arterial média para pacientes com condições de saúde adicionais não é igual à pressão arterial média para pacientes sem condições adicionais de saúde.\n"
          ]
        }
      ]
    },
    {
      "cell_type": "markdown",
      "source": [
        "##### 6.\tExiste uma diferença significativa na pressão arterial média entre diferentes grupos étnicos nesta população? (Teste ANOVA, alpha é 5%)\n",
        "\n",
        "  a.\tHipótese Nula (H0): A pressão arterial média é a mesma em todos os grupos étnicos.\n",
        "\n",
        "  b.\tHiExiste uma associação entre a idade dos pacientes e sua pressão arterial?\n",
        "  \n",
        "\n",
        "```\n",
        "      i.\tHipótese Nula (H0): A idade dos pacientes é independente da pressão arterial.\n",
        "\n",
        "      ii.\tHipótese Alternativa (H1): A idade dos pacientes está associada à sua pressão arterial.\n",
        "\n",
        "```\n",
        "\n",
        "\n",
        " c.\tHipótese Alternativa (H1): Há uma diferença significativa na pressão arterial média entre pelo menos dois grupos étnicos nesta população.\n"
      ],
      "metadata": {
        "id": "KbPW85HFK4Rq"
      }
    },
    {
      "cell_type": "code",
      "source": [
        "df_pacientes[\"Nome_Etnia\"].value_counts()"
      ],
      "metadata": {
        "colab": {
          "base_uri": "https://localhost:8080/"
        },
        "id": "QTmNT31Er_rG",
        "outputId": "17a04660-3ebd-4730-bc12-35344186a1b0"
      },
      "execution_count": 14,
      "outputs": [
        {
          "output_type": "execute_result",
          "data": {
            "text/plain": [
              "Nome_Etnia\n",
              "Afro-americano    260\n",
              "Hispânico         255\n",
              "Asiático          252\n",
              "Caucasiano        233\n",
              "Name: count, dtype: int64"
            ]
          },
          "metadata": {},
          "execution_count": 14
        }
      ]
    },
    {
      "cell_type": "code",
      "source": [
        "# Filtrando as pressões arteriais por grupo étnico\n",
        "pressao_afroamericano = df_pacientes[df_pacientes[\"Nome_Etnia\"] == \"Afro-americano\"][\"Pressao_Arterial\"]\n",
        "pressao_hispanico = df_pacientes[df_pacientes[\"Nome_Etnia\"] == \"Hispânico\"][\"Pressao_Arterial\"]\n",
        "pressao_asiatico = df_pacientes[df_pacientes[\"Nome_Etnia\"] == \"Asiático\"][\"Pressao_Arterial\"]\n",
        "pressao_caucasiano = df_pacientes[df_pacientes[\"Nome_Etnia\"] == \"Caucasiano\"][\"Pressao_Arterial\"]\n",
        "\n",
        "# Utilizando o teste ANOVA para testar se a hipótese nula de dois ou mais grupos têm a mesma média populacional\n",
        "stat3, p_valor3 = stats.f_oneway(pressao_afroamericano, pressao_hispanico, pressao_asiatico, pressao_caucasiano)\n",
        "\n",
        "alpha3 = 0.05\n",
        "\n",
        "if p_valor3 < alpha3:\n",
        "    print(\"Rejeitar a hipótese de que a pressão arterial média é a mesma em todos os grupos étnicos.\")\n",
        "else:\n",
        "    print(\"Não rejeitar a hipótese nula: Não há evidências suficientes para afirmar que a pressão arterial média é a mesma em todos os grupos étnicos\")\n"
      ],
      "metadata": {
        "colab": {
          "base_uri": "https://localhost:8080/"
        },
        "id": "gf5bgCc5sVXG",
        "outputId": "ab9bf933-9ab3-425e-b64d-0409ea62254b"
      },
      "execution_count": 38,
      "outputs": [
        {
          "output_type": "stream",
          "name": "stdout",
          "text": [
            "Não rejeitar a hipótese nula: Não há evidências suficientes para afirmar que a pressão arterial média é a mesma em todos os grupos étnicos\n"
          ]
        }
      ]
    },
    {
      "cell_type": "code",
      "source": [
        "# Criando uma tabela de contingência\n",
        "tabela_contingecia = pd.crosstab(df_pacientes[\"Pressao_Arterial\"], df_pacientes[\"Idade\"])\n",
        "\n",
        "# Realizando o teste qui-quadrado\n",
        "stat4, p_valor4, graus_liberdade, _ = stats.chi2_contingency(tabela_contingecia)\n",
        "\n",
        "# Imprimindo o resultado\n",
        "print(\"Resultado do p_value do teste Qui-Quadrado:\")\n",
        "print(f\"Valor p: {p_valor4}\")\n",
        "print(\"\\n\")\n",
        "\n",
        "if p_valor4 < 0.05:\n",
        "    print(\"Rejeitar a hipótese de que a idade dos pacientes é independente da pressão arterial.\")\n",
        "else:\n",
        "    print(\"Não rejeitar a hipótese de que a idade dos pacientes está associada à sua pressão arterial.\")"
      ],
      "metadata": {
        "id": "7WZVHHHW0jy1",
        "colab": {
          "base_uri": "https://localhost:8080/"
        },
        "outputId": "45fb48e6-1f23-4048-dbae-ee70af95d9da"
      },
      "execution_count": 40,
      "outputs": [
        {
          "output_type": "stream",
          "name": "stdout",
          "text": [
            "Resultado do p_value do teste Qui-Quadrado:\n",
            "Valor p: 0.44282803884331223\n",
            "\n",
            "\n",
            "Não rejeitar a hipótese de que a idade dos pacientes está associada à sua pressão arterial.\n"
          ]
        }
      ]
    },
    {
      "cell_type": "markdown",
      "source": [
        "##### 7.\tLúcia é uma pesquisadora e tem o objetivo de entender a relação de gênero neste grupo de pacientes. Acredita-se que há uma relação entre o sexo e condições de saúde adicionais. (Teste qui-quadrado)"
      ],
      "metadata": {
        "id": "ZIW1NKwyNTQB"
      }
    },
    {
      "cell_type": "code",
      "source": [
        "tabela_contingecia2 = pd.crosstab(df_pacientes[\"Genero\"], df_pacientes[\"Estado_Saude\"])\n",
        "\n",
        "stat5, p_valor5, graus_liberdade2, _ = stats.chi2_contingency(tabela_contingecia2)\n",
        "\n",
        "print(\"Resultado do p_value do teste Qui-Quadrado:\")\n",
        "print(f\"Valor p: {p_valor5}\")\n",
        "print(\"\\n\")\n",
        "\n",
        "if p_valor5 < 0.05:\n",
        "    print(\"Rejeitar a hipótese de que há relação entre o sexo e condições de saúde adicionais.\")\n",
        "else:\n",
        "    print(\"Não rejeitar a hipótese de que não há relação entre o sexo e condições de saúde adicionais.\")\n"
      ],
      "metadata": {
        "colab": {
          "base_uri": "https://localhost:8080/"
        },
        "id": "KiuEABgdSIy1",
        "outputId": "127d3deb-46c9-4381-cc5d-f6aa40d3f6fe"
      },
      "execution_count": 41,
      "outputs": [
        {
          "output_type": "stream",
          "name": "stdout",
          "text": [
            "Resultado do p_value do teste Qui-Quadrado:\n",
            "Valor p: 1.0\n",
            "\n",
            "\n",
            "Não rejeitar a hipótese de que não há relação entre o sexo e condições de saúde adicionais.\n"
          ]
        }
      ]
    },
    {
      "cell_type": "markdown",
      "source": [
        "#####8. Existe uma associação entre a idade dos pacientes e sua pressão arterial?\n",
        "\n",
        "a. Hipótese Nula (H0 ): A idade dos pacientes é independente da pressão arterial.\n",
        "\n",
        "b. Hipótese Alternativa (H1 ): A idade dos pacientes está associada à sua pressão arterial."
      ],
      "metadata": {
        "id": "4tbnvfwFdrqp"
      }
    },
    {
      "cell_type": "code",
      "source": [
        "# Utilizando o teste de correlação de Pearson pra saber se a idade e a pressão arterial possuem associação (variáveis numéricas)\n",
        "correlacao, p_valor6 = stats.pearsonr(df_pacientes[\"Idade\"], df_pacientes[\"Pressao_Arterial\"])\n",
        "\n",
        "# Testando se o P-Valor é menor que o nível de significância: 95% - alpha = 0.05\n",
        "if p_valor6 < 0.05:\n",
        "    print(\"Rejeitar a hipótese de que a idade dos pacientes são indepentes da pressão arterial.\")\n",
        "else:\n",
        "    print(\"Não rejeitar a hipótese de que a idade dos pacientes são indepentes da pressão arterial.\")"
      ],
      "metadata": {
        "colab": {
          "base_uri": "https://localhost:8080/"
        },
        "id": "cQcVhlIEexdN",
        "outputId": "97cfa6fa-13ef-4bd9-80dc-4993a0c95d4f"
      },
      "execution_count": 48,
      "outputs": [
        {
          "output_type": "stream",
          "name": "stdout",
          "text": [
            "Não rejeitar a hipótese de que a idade dos pacientes são indepentes da pressão arterial.\n"
          ]
        }
      ]
    },
    {
      "cell_type": "markdown",
      "source": [
        "##### 9.\tQual é o intervalo de confiança para a média da pressão arterial entre os pacientes com condições de saúde adicionais? (nível de confiança 95%)"
      ],
      "metadata": {
        "id": "S2kA1hcOOm5-"
      }
    },
    {
      "cell_type": "code",
      "source": [
        "# Selecionando os dados da pressão arterial dos pacientes com condições de saúde adicionais\n",
        "pressao_arterial = df_pacientes[df_pacientes[\"Estado_Saude\"] == 1][\"Pressao_Arterial\"]\n",
        "\n",
        "\n",
        "media = np.mean(pressao_arterial)\n",
        "desvio_padrao = np.std(pressao_arterial, ddof=1)\n",
        "\n",
        "# Determinando o tamanho da amostra\n",
        "tamanho_amostra = len(pressao_arterial)\n",
        "\n",
        "# Calculando o intervalo de confiança\n",
        "z_alpha_2 = norm.ppf(0.975)  # Para um intervalo de confiança de 95%\n",
        "erro_padrao = desvio_padrao / np.sqrt(tamanho_amostra)\n",
        "intervalo_confianca = (media - z_alpha_2 * erro_padrao, media + z_alpha_2 * erro_padrao)\n",
        "\n",
        "print(f\"Intervalo de Confiança para a Média da Pressão Arterial (95% de confiança): Limite Inferior - {intervalo_confianca[0]:.2f} | Limite Superior - {intervalo_confianca[1]:.2f}\")\n"
      ],
      "metadata": {
        "colab": {
          "base_uri": "https://localhost:8080/"
        },
        "id": "BzbSByFtXo2C",
        "outputId": "d8cf7e89-5d37-4dff-8941-38289d07bc43"
      },
      "execution_count": 18,
      "outputs": [
        {
          "output_type": "stream",
          "name": "stdout",
          "text": [
            "Intervalo de Confiança para a Média da Pressão Arterial (95% de confiança): Limite Inferior - 149.22 | Limite Superior - 151.02\n"
          ]
        }
      ]
    },
    {
      "cell_type": "markdown",
      "source": [
        "##### 10.\tA distribuição da pressão arterial na população segue uma distribuição normal?\n",
        "\n",
        "  a.\tHipótese Nula (H0): A distribuição da pressão arterial na população segue uma distribuição normal.\n",
        "\n",
        "  b.\tHipótese Alternativa (H1): A distribuição da pressão arterial na população não segue uma distribuição normal.\n"
      ],
      "metadata": {
        "id": "gXEFFf-xP390"
      }
    },
    {
      "cell_type": "code",
      "source": [
        "# Teste de Shapiro-Wilk\n",
        "statistic, p_value = shapiro(df_pacientes['Pressao_Arterial'])\n",
        "\n",
        "print(\"Valor p:\", p_value)\n",
        "\n",
        "# Testando a hipótese nula\n",
        "if p_value < 0.05:\n",
        "    print(\"Rejeitar a hipótese de que a distribuição da pressão arterial na população não segue uma distribuição normal.\")\n",
        "else:\n",
        "    print(\"Não rejeitar a hipótese de que a distribuição da pressão arterial na população não segue uma distribuição normal.\")\n"
      ],
      "metadata": {
        "colab": {
          "base_uri": "https://localhost:8080/"
        },
        "id": "aoLXzY2Q4pz2",
        "outputId": "c545caea-e859-48ff-bf02-e93cff0e2475"
      },
      "execution_count": 44,
      "outputs": [
        {
          "output_type": "stream",
          "name": "stdout",
          "text": [
            "Valor p: 0.06068389490246773\n",
            "Não rejeitar a hipótese de que a distribuição da pressão arterial na população não segue uma distribuição normal.\n"
          ]
        }
      ]
    }
  ]
}